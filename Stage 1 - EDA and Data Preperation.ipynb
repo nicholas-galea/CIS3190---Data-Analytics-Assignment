{
 "cells": [
  {
   "cell_type": "markdown",
   "metadata": {},
   "source": [
    "Nicholas Galea - 409904L\n",
    "\n",
    "CIS3190 - Data Analytics Assignment"
   ]
  },
  {
   "cell_type": "markdown",
   "metadata": {},
   "source": [
    "# Stage 1 - EDA Exploratory Data Analysis"
   ]
  },
  {
   "cell_type": "code",
   "execution_count": 1,
   "metadata": {},
   "outputs": [],
   "source": [
    "import pandas as pd\n",
    "from sklearn.preprocessing import StandardScaler\n",
    "import matplotlib.pyplot as plt\n",
    "import seaborn as sns\n",
    "import numpy as np\n",
    "from sklearn.model_selection import train_test_split\n"
   ]
  },
  {
   "cell_type": "code",
   "execution_count": null,
   "metadata": {},
   "outputs": [
    {
     "name": "stdout",
     "output_type": "stream",
     "text": [
      "Column: customerID \t object\n",
      "['7590-VHVEG' '5575-GNVDE' '3668-QPYBK' ... '4801-JZAZL' '8361-LTMKD'\n",
      " '3186-AJIEK']\n",
      "\n",
      "Column: gender \t object\n",
      "['Female' 'Male']\n",
      "\n",
      "Column: SeniorCitizen \t int64\n",
      "[0 1]\n",
      "\n",
      "Column: Partner \t object\n",
      "['Yes' 'No']\n",
      "\n",
      "Column: Dependents \t object\n",
      "['No' 'Yes']\n",
      "\n",
      "Column: tenure \t int64\n",
      "[ 1 34  2 45  8 22 10 28 62 13 16 58 49 25 69 52 71 21 12 30 47 72 17 27\n",
      "  5 46 11 70 63 43 15 60 18 66  9  3 31 50 64 56  7 42 35 48 29 65 38 68\n",
      " 32 55 37 36 41  6  4 33 67 23 57 61 14 20 53 40 59 24 44 19 54 51 26  0\n",
      " 39]\n",
      "\n",
      "Column: PhoneService \t object\n",
      "['No' 'Yes']\n",
      "\n",
      "Column: MultipleLines \t object\n",
      "['No phone service' 'No' 'Yes']\n",
      "\n",
      "Column: InternetService \t object\n",
      "['DSL' 'Fiber optic' 'No']\n",
      "\n",
      "Column: OnlineSecurity \t object\n",
      "['No' 'Yes' 'No internet service']\n",
      "\n",
      "Column: OnlineBackup \t object\n",
      "['Yes' 'No' 'No internet service']\n",
      "\n",
      "Column: DeviceProtection \t object\n",
      "['No' 'Yes' 'No internet service']\n",
      "\n",
      "Column: TechSupport \t object\n",
      "['No' 'Yes' 'No internet service']\n",
      "\n",
      "Column: StreamingTV \t object\n",
      "['No' 'Yes' 'No internet service']\n",
      "\n",
      "Column: StreamingMovies \t object\n",
      "['No' 'Yes' 'No internet service']\n",
      "\n",
      "Column: Contract \t object\n",
      "['Month-to-month' 'One year' 'Two year']\n",
      "\n",
      "Column: PaperlessBilling \t object\n",
      "['Yes' 'No']\n",
      "\n",
      "Column: PaymentMethod \t object\n",
      "['Electronic check' 'Mailed check' 'Bank transfer (automatic)'\n",
      " 'Credit card (automatic)']\n",
      "\n",
      "Column: MonthlyCharges \t float64\n",
      "[29.85 56.95 53.85 ... 63.1  44.2  78.7 ]\n",
      "\n",
      "Column: TotalCharges \t object\n",
      "['29.85' '1889.5' '108.15' ... '346.45' '306.6' '6844.5']\n",
      "\n",
      "Column: Churn \t object\n",
      "['No' 'Yes']\n",
      "\n"
     ]
    }
   ],
   "source": [
    "data = pd.read_csv(\"telecom_customer_churn.csv\")\n",
    "\n",
    "# Replace ' ' with NaN and drop rows where TotalCharges is NaN\n",
    "data['TotalCharges'] = data['TotalCharges'].replace(' ', np.nan)  # Replace blank spaces with NaN\n",
    "data = data.dropna(subset=['TotalCharges'])  # Drop rows with NaN in TotalCharges\n",
    "\n",
    "# Print column names to debug\n",
    "for col in data.columns:\n",
    "    print('Column:', col, '\\t', data[col].dtype)\n",
    "    print(data[col].unique())\n",
    "    print()\n",
    "    \n"
   ]
  },
  {
   "cell_type": "code",
   "execution_count": null,
   "metadata": {},
   "outputs": [],
   "source": [
    "categorical_columns = ['InternetService', 'OnlineSecurity', 'MultipleLines',\n",
    "                       'OnlineBackup', 'DeviceProtection', 'TechSupport', \n",
    "                       'StreamingTV', 'StreamingMovies', 'Contract', 'PaymentMethod']\n",
    "\n",
    "yes_no_columns = ['Partner', 'Dependents', 'PhoneService', 'PaperlessBilling']\n",
    "two_value_columns = ['gender']\n",
    "\n",
    "columns = list(set(categorical_columns).union(yes_no_columns, two_value_columns))\n",
    "\n",
    "print(columns)\n",
    "\n",
    "# SeniorCitizen is already 0/1."
   ]
  },
  {
   "cell_type": "code",
   "execution_count": null,
   "metadata": {},
   "outputs": [],
   "source": [
    "# Display basic information about the dataset\n",
    "print(\"Data Information\")\n",
    "data.info()\n",
    "\n",
    "# Summary Statistics for Numerical Columns\n",
    "print(\"Statistcs for Numerical Columns\")\n",
    "data.describe()\n",
    "\n",
    "# Confirming that no 'nan' values are present\n",
    "print(\"nan values\")\n",
    "data.isnull().sum()"
   ]
  },
  {
   "cell_type": "code",
   "execution_count": null,
   "metadata": {},
   "outputs": [],
   "source": [
    "# Plot the distribution of the target variable\n",
    "plt.figure(figsize=(8, 6))\n",
    "sns.countplot(data=data, x='Churn', palette='viridis')\n",
    "plt.title('Distribution of Churn')\n",
    "plt.xlabel('Churn')\n",
    "plt.ylabel('Count')\n",
    "plt.show()"
   ]
  },
  {
   "cell_type": "code",
   "execution_count": null,
   "metadata": {},
   "outputs": [],
   "source": [
    "# Plot the distribution of categorical features\n",
    "for column in columns:\n",
    "    plt.figure(figsize=(8, 6))\n",
    "    sns.countplot(data=data, x=column, palette='viridis')\n",
    "    plt.title(f'Distribution of {column}')\n",
    "    plt.xlabel(column)\n",
    "    plt.ylabel('Count')\n",
    "    plt.xticks(rotation=45)\n",
    "    plt.show()"
   ]
  },
  {
   "cell_type": "code",
   "execution_count": null,
   "metadata": {},
   "outputs": [],
   "source": [
    "# List of numerical columns\n",
    "numerical_columns = ['tenure', 'MonthlyCharges', 'TotalCharges']\n",
    "\n",
    "# Plot the distribution of numerical features\n",
    "for column in numerical_columns:\n",
    "    plt.figure(figsize=(8, 6))\n",
    "    sns.histplot(data=data, x=column, kde=True, bins=30, color='blue')\n",
    "    plt.title(f'Distribution of {column}')\n",
    "    plt.xlabel(column)\n",
    "    plt.ylabel('Frequency')\n",
    "    plt.show()"
   ]
  },
  {
   "cell_type": "code",
   "execution_count": null,
   "metadata": {},
   "outputs": [],
   "source": [
    "# Plot churn rates by categorical features\n",
    "for column in categorical_columns:\n",
    "    plt.figure(figsize=(8, 6))\n",
    "    sns.barplot(data=data, x=column, y=data['Churn'].map({'Yes': 1, 'No': 0}), palette='viridis')\n",
    "    plt.title(f'Churn Rate by {column}')\n",
    "    plt.xlabel(column)\n",
    "    plt.ylabel('Churn Rate')\n",
    "    plt.xticks(rotation=45)\n",
    "    plt.show()"
   ]
  },
  {
   "cell_type": "code",
   "execution_count": null,
   "metadata": {},
   "outputs": [],
   "source": [
    "# Convert Churn column from Yes/No to Binary 0/1\n",
    "data['Churn'] = data['Churn'].map({'Yes': 1, 'No': 0})"
   ]
  },
  {
   "cell_type": "code",
   "execution_count": null,
   "metadata": {},
   "outputs": [],
   "source": [
    "# Convert Churn to numerical for correlation\n",
    "data['TotalCharges'] = pd.to_numeric(data['TotalCharges'], errors='coerce')\n",
    "\n",
    "# Calculate correlation matrix\n",
    "correlation_matrix = data[numerical_columns + ['Churn']].corr()\n",
    "\n",
    "# Plot heatmap\n",
    "plt.figure(figsize=(10, 8))\n",
    "sns.heatmap(correlation_matrix, annot=True, cmap='coolwarm', fmt='.2f')\n",
    "plt.title('Correlation Heatmap')\n",
    "plt.show()"
   ]
  },
  {
   "cell_type": "code",
   "execution_count": null,
   "metadata": {},
   "outputs": [],
   "source": [
    "# One-Hot-Encoding\n",
    "print(data.columns)\n",
    "print(data.head())"
   ]
  },
  {
   "cell_type": "code",
   "execution_count": null,
   "metadata": {},
   "outputs": [],
   "source": [
    "# Check the columns list\n",
    "print(\"Columns list:\")\n",
    "print(columns)\n",
    "\n",
    "# Compare with DataFrame columns\n",
    "print(\"DataFrame columns:\")\n",
    "print(data.columns)\n",
    "\n",
    "# Check if all `columns` are in `data`\n",
    "missing_columns = [col for col in columns if col not in data.columns]\n",
    "if missing_columns:\n",
    "    print(f\"Missing columns: {missing_columns}\")\n",
    "else:\n",
    "    print(\"All columns are present in the DataFrame.\")"
   ]
  },
  {
   "cell_type": "code",
   "execution_count": null,
   "metadata": {},
   "outputs": [],
   "source": [
    "# Dropping CustomerID (Not Needed)\n",
    "if 'customerID' in data.columns:\n",
    "    data = data.drop(columns=['customerID'])\n",
    "\n",
    "# Doing One-Hot-Encoding \n",
    "\n",
    "# 1. Gender Column: Male -> 0, Female -> 1\n",
    "data['gender'] = data['gender'].map({'Male': 0, 'Female': 1})\n",
    "print(\"(Gender) Data Frame columns:\", data.columns)\n",
    "\n",
    "# 2. Converting Yes -> 1, No -> 0\n",
    "for col in yes_no_columns:\n",
    "    data[col] = data[col].map({'Yes': 1, 'No': 0})\n",
    "print(\"Yes/No Data Frame columns:\", data.columns)\n",
    "\n",
    "# 3. One-Hot-Encoding Categorical Columns\n",
    "# Function to generate one-hot mapping dynamically\n",
    "def generate_one_hot_mapping(unique_values):\n",
    "    mapping = {value: [1 if i == j else 0 for i in range(len(unique_values))]\n",
    "        for j, value in enumerate(unique_values)}\n",
    "    return mapping\n",
    "\n",
    "for col in categorical_columns:\n",
    "    # Generate the mapping dynamically\n",
    "    \n",
    "    unique_values = data[col].unique()  # Get unique values from the column\n",
    "    one_hot_mapping = generate_one_hot_mapping(unique_values)\n",
    "    \n",
    "    # Replace string values with one-hot-encoded lists\n",
    "    data[col] = data[col].map(one_hot_mapping)\n",
    "\n",
    "# 4. Ensure all columns are numeric\n",
    "# Convert all Boolean columns: True -> 1, False -> 0\n",
    "data = data.applymap(lambda x: 1 if x is True else (0 if x is False else x))\n",
    "\n",
    "# 5. Verify that all columns are numeric\n",
    "# assert all(data.dtypes.apply(lambda dtype: np.issubdtype(dtype, np.number))), \"Not all columns are numeric!\"\n",
    "\n",
    "# Check the results\n",
    "print(data.head())"
   ]
  },
  {
   "cell_type": "code",
   "execution_count": null,
   "metadata": {},
   "outputs": [],
   "source": [
    "# Non-Numeric Columns\n",
    "non_numeric_columns = data.select_dtypes(exclude=['number']).columns\n",
    "\n",
    "print(\"Non-numeric columns:\")\n",
    "print(non_numeric_columns)\n",
    "\n",
    "print(data.head(10))"
   ]
  },
  {
   "cell_type": "code",
   "execution_count": null,
   "metadata": {},
   "outputs": [],
   "source": [
    "df_X = data.drop(columns=['Churn'])\n",
    "df_y = data['Churn']\n",
    "\n",
    "# Convert dataframces to Numpy arrrays\n",
    "X = df_X.to_numpy()\n",
    "y = df_y.to_numpy()\n",
    "\n",
    "print(data.head())\n",
    "print()\n",
    "print(df_X.head())\n",
    "print()\n",
    "print(df_y.head())\n",
    "print()\n",
    "print(X)\n",
    "print()\n",
    "print(y)"
   ]
  },
  {
   "cell_type": "code",
   "execution_count": null,
   "metadata": {},
   "outputs": [],
   "source": [
    "# Split the data into training(80%) and testing(20%) sets \n",
    "X_train, X_test, y_train, y_test = train_test_split(X, y, test_size=0.2, random_state=42)\n",
    "\n",
    "# Check the shapes of training and testing sets\n",
    "print(\"Shape of X_train:\", X_train.shape)\n",
    "print(\"Shape of X_test:\", X_test.shape)\n",
    "print(\"Shape of y_train:\", y_train.shape)\n",
    "print(\"Shape of y_test:\", y_test.shape)"
   ]
  },
  {
   "cell_type": "code",
   "execution_count": null,
   "metadata": {},
   "outputs": [],
   "source": [
    "# Calculating Basic Statistics\n",
    "    \n",
    "print(\"Basic Statistics:\")\n",
    "print(data.describe()) \n",
    "\n",
    "print(\"\\nMode for each column:\")\n",
    "print(data.mode().iloc[0])  # Get mode for each column"
   ]
  },
  {
   "cell_type": "code",
   "execution_count": null,
   "metadata": {},
   "outputs": [],
   "source": [
    "# Distribution of features\n",
    "\n",
    "import matplotlib.pyplot as plt\n",
    "import seaborn as sns\n",
    "\n",
    "# Set the plot style to be more aesthetic\n",
    "sns.set(style=\"whitegrid\")\n",
    "\n",
    "# 1. Distribution of Numerical Features\n",
    "numerical_features = ['tenure', 'MonthlyCharges', 'TotalCharges']\n",
    "\n",
    "plt.figure(figsize=(15, 5))\n",
    "for i, feature in enumerate(numerical_features, 1):\n",
    "    plt.subplot(1, 3, i)\n",
    "    sns.histplot(data[feature], kde=True, bins=30, color=\"skyblue\")\n",
    "    plt.title(f'Distribution of {feature}')\n",
    "    plt.xlabel(feature)\n",
    "    plt.ylabel('Frequency')\n",
    "\n",
    "plt.tight_layout()\n",
    "plt.show()\n",
    "\n",
    "# 2. Distribution of Categorical Features\n",
    "categorical_features = ['gender', 'SeniorCitizen', 'Partner', 'Dependents', \n",
    "                        'PhoneService', 'PaperlessBilling', 'Churn']\n",
    "\n",
    "plt.figure(figsize=(15, 10))\n",
    "for i, feature in enumerate(categorical_features, 1):\n",
    "    plt.subplot(3, 3, i)\n",
    "    sns.countplot(data[feature], palette=\"pastel\")\n",
    "    plt.title(f'Distribution of {feature}')\n",
    "    plt.xlabel(feature)\n",
    "    plt.ylabel('Count')\n",
    "\n",
    "plt.tight_layout()\n",
    "plt.show()\n"
   ]
  }
 ],
 "metadata": {
  "kernelspec": {
   "display_name": "base",
   "language": "python",
   "name": "python3"
  },
  "language_info": {
   "codemirror_mode": {
    "name": "ipython",
    "version": 3
   },
   "file_extension": ".py",
   "mimetype": "text/x-python",
   "name": "python",
   "nbconvert_exporter": "python",
   "pygments_lexer": "ipython3",
   "version": "3.9.12"
  }
 },
 "nbformat": 4,
 "nbformat_minor": 2
}
